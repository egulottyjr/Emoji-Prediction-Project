{
 "cells": [
  {
   "cell_type": "code",
   "execution_count": 18,
   "id": "e68feda3",
   "metadata": {},
   "outputs": [
    {
     "name": "stdout",
     "output_type": "stream",
     "text": [
      "                                                text                     emoji\n",
      "0  No object is so beautiful that under certain c...               :red_heart:\n",
      "1  Cant expect different results doing the same t...        :person_shrugging:\n",
      "2  “ Lets go Marcus ” “ Shiiit where we goin Home...  :face_with_tears_of_joy:\n",
      "3  Asahd really is a grown man in the body of a 1...  :face_with_tears_of_joy:\n",
      "4  Yoongi Tweet Hello Im Min fell on Butt What th...  :face_with_tears_of_joy:\n"
     ]
    }
   ],
   "source": [
    "import pandas as pd\n",
    "import re\n",
    "\n",
    "file_path = 'dev.txt'\n",
    "\n",
    "def read_data(file_path):\n",
    "    with open(file_path, 'r', encoding='utf-8') as file:\n",
    "        return file.read()\n",
    "\n",
    "def process_data(data):\n",
    "    unicode_emoji_pattern = re.compile('[\\U00010000-\\U0010FFFF]', flags=re.UNICODE)\n",
    "    emoji_shortcode_pattern = re.compile(r\":[a-zA-Z0-9_]+:\")\n",
    "\n",
    "    blocks = data.strip().split(\"<START>\")[1:]\n",
    "    processed_blocks = []\n",
    "\n",
    "    for block in blocks:\n",
    "        lines = block.strip().split(\"\\n\")[1:-1]\n",
    "        words = []\n",
    "        emojis = {}\n",
    "        \n",
    "        for line in lines:\n",
    "            line = unicode_emoji_pattern.sub('', line)\n",
    "            parts = line.strip().split()\n",
    "            \n",
    "            for part in parts:\n",
    "                if emoji_shortcode_pattern.fullmatch(part):\n",
    "                    if part in emojis:\n",
    "                        emojis[part] += 1\n",
    "                    else:\n",
    "                        emojis[part] = 1\n",
    "                elif part != \"O\":\n",
    "                    if part.endswith(\"O\"):\n",
    "                        part = part[:-1]\n",
    "                    words.append(part)\n",
    "\n",
    "        if emojis and words: \n",
    "            most_common_emoji = max(emojis, key=emojis.get)\n",
    "            sentence = \" \".join(words)\n",
    "            processed_blocks.append((sentence, most_common_emoji))\n",
    "\n",
    "    return processed_blocks\n",
    "\n",
    "def create_dataframe(processed_data):\n",
    "    return pd.DataFrame(processed_data, columns=[\"text\", \"emoji\"])\n",
    "\n",
    "data = read_data(file_path)\n",
    "processed_data = process_data(data)\n",
    "df = create_dataframe(processed_data)\n",
    "print(df.head())\n"
   ]
  },
  {
   "cell_type": "code",
   "execution_count": 24,
   "id": "636a748a",
   "metadata": {},
   "outputs": [],
   "source": [
    "df.to_csv('dev_cleaned3.csv', index = False)"
   ]
  },
  {
   "cell_type": "code",
   "execution_count": null,
   "id": "c96ca2cb",
   "metadata": {},
   "outputs": [],
   "source": []
  }
 ],
 "metadata": {
  "kernelspec": {
   "display_name": "Python 3 (ipykernel)",
   "language": "python",
   "name": "python3"
  },
  "language_info": {
   "codemirror_mode": {
    "name": "ipython",
    "version": 3
   },
   "file_extension": ".py",
   "mimetype": "text/x-python",
   "name": "python",
   "nbconvert_exporter": "python",
   "pygments_lexer": "ipython3",
   "version": "3.10.7"
  }
 },
 "nbformat": 4,
 "nbformat_minor": 5
}
